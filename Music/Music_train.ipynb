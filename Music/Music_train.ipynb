{
 "cells": [
  {
   "cell_type": "code",
   "execution_count": 4,
   "metadata": {
    "collapsed": false
   },
   "outputs": [],
   "source": [
    "from keras.models import Sequential\n",
    "from keras.layers import Dense, Activation\n",
    "from keras.layers.wrappers import TimeDistributed\n",
    "from keras.layers import LSTM\n",
    "import numpy as np\n",
    "import random\n",
    "import sys\n",
    "import collections\n",
    "from music_csv_reader import CSV_Manager\n"
   ]
  },
  {
   "cell_type": "code",
   "execution_count": 5,
   "metadata": {
    "collapsed": false,
    "scrolled": false
   },
   "outputs": [],
   "source": [
    "csv_data_manager = CSV_Manager(filename = 'alb2.csv')\n",
    "csv_data_manager.process_file()\n",
    "notes = csv_data_manager.music_sequence"
   ]
  },
  {
   "cell_type": "code",
   "execution_count": 6,
   "metadata": {
    "collapsed": false
   },
   "outputs": [
    {
     "name": "stdout",
     "output_type": "stream",
     "text": [
      "271\n",
      "nb sequences: 20\n",
      "nb sequences: 271\n",
      "(1669, 20, 271)\n",
      "(1669, 20, 271)\n"
     ]
    }
   ],
   "source": [
    "maxlen = 20\n",
    "vec_len = csv_data_manager.vec_length\n",
    "print(vec_len)\n",
    "\n",
    "\n",
    "note_sequences = []\n",
    "next_note_sequences = []\n",
    "for i in range(0, len(notes) - maxlen-1, 1):\n",
    "    note_sequences.append(notes[i: i + maxlen])\n",
    "    next_note_sequences.append(notes[i+1: i+1+maxlen])\n",
    "    \n",
    "print('nb sequences:', len(note_sequences[0]))\n",
    "print('nb sequences:', len(next_note_sequences[0][0]))\n",
    "\n",
    "\n",
    "note_sequences = np.array(note_sequences)\n",
    "next_note_sequences = np.array(next_note_sequences)\n",
    "\n",
    "print(note_sequences.shape)\n",
    "print(next_note_sequences.shape)\n"
   ]
  },
  {
   "cell_type": "code",
   "execution_count": 7,
   "metadata": {
    "collapsed": false
   },
   "outputs": [
    {
     "name": "stdout",
     "output_type": "stream",
     "text": [
      "Build model...\n",
      "_________________________________________________________________\n",
      "Layer (type)                 Output Shape              Param #   \n",
      "=================================================================\n",
      "lstm_1 (LSTM)                (None, 20, 128)           204800    \n",
      "_________________________________________________________________\n",
      "time_distributed_1 (TimeDist (None, 20, 271)           34959     \n",
      "=================================================================\n",
      "Total params: 239,759.0\n",
      "Trainable params: 239,759\n",
      "Non-trainable params: 0.0\n",
      "_________________________________________________________________\n",
      "None\n"
     ]
    }
   ],
   "source": [
    "print('Build model...')\n",
    "model = Sequential()\n",
    "model.add(LSTM(128, input_shape=(maxlen, vec_len),return_sequences=True))\n",
    "model.add(TimeDistributed(Dense(vec_len,activation='sigmoid')))\n",
    "model.compile(loss='binary_crossentropy', optimizer='adam')\n",
    "\n",
    "print(model.summary())"
   ]
  },
  {
   "cell_type": "code",
   "execution_count": 14,
   "metadata": {
    "collapsed": false
   },
   "outputs": [
    {
     "name": "stdout",
     "output_type": "stream",
     "text": [
      "Epoch 1/40\n",
      "1669/1669 [==============================] - 5s - loss: 0.0394     \n",
      "Epoch 2/40\n",
      "1669/1669 [==============================] - 5s - loss: 0.0387     \n",
      "Epoch 3/40\n",
      "1669/1669 [==============================] - 5s - loss: 0.0383     \n",
      "Epoch 4/40\n",
      "1669/1669 [==============================] - 5s - loss: 0.0379     \n",
      "Epoch 5/40\n",
      "1669/1669 [==============================] - 5s - loss: 0.0377     \n",
      "Epoch 6/40\n",
      "1669/1669 [==============================] - 5s - loss: 0.0374     \n",
      "Epoch 7/40\n",
      "1669/1669 [==============================] - 5s - loss: 0.0372     \n",
      "Epoch 8/40\n",
      "1669/1669 [==============================] - 5s - loss: 0.0371     \n",
      "Epoch 9/40\n",
      "1669/1669 [==============================] - 5s - loss: 0.0369     \n",
      "Epoch 10/40\n",
      "1669/1669 [==============================] - 5s - loss: 0.0366     \n",
      "Epoch 11/40\n",
      "1669/1669 [==============================] - 5s - loss: 0.0359     \n",
      "Epoch 12/40\n",
      "1669/1669 [==============================] - 5s - loss: 0.0351     \n",
      "Epoch 13/40\n",
      "1669/1669 [==============================] - 5s - loss: 0.0344     \n",
      "Epoch 14/40\n",
      "1669/1669 [==============================] - 5s - loss: 0.0334     \n",
      "Epoch 15/40\n",
      "1669/1669 [==============================] - 5s - loss: 0.0317     \n",
      "Epoch 16/40\n",
      "1669/1669 [==============================] - 5s - loss: 0.0302     \n",
      "Epoch 17/40\n",
      "1669/1669 [==============================] - 5s - loss: 0.0287     \n",
      "Epoch 18/40\n",
      "1669/1669 [==============================] - 5s - loss: 0.0271     \n",
      "Epoch 19/40\n",
      "1669/1669 [==============================] - 5s - loss: 0.0252     \n",
      "Epoch 20/40\n",
      "1669/1669 [==============================] - 5s - loss: 0.0232     \n",
      "Epoch 21/40\n",
      "1669/1669 [==============================] - 5s - loss: 0.0210     \n",
      "Epoch 22/40\n",
      "1669/1669 [==============================] - 5s - loss: 0.0190     \n",
      "Epoch 23/40\n",
      "1669/1669 [==============================] - 5s - loss: 0.0170     \n",
      "Epoch 24/40\n",
      "1669/1669 [==============================] - 5s - loss: 0.0151     \n",
      "Epoch 25/40\n",
      "1669/1669 [==============================] - 5s - loss: 0.0134     \n",
      "Epoch 26/40\n",
      "1669/1669 [==============================] - 5s - loss: 0.0118     \n",
      "Epoch 27/40\n",
      "1669/1669 [==============================] - 5s - loss: 0.0104     \n",
      "Epoch 28/40\n",
      "1669/1669 [==============================] - 5s - loss: 0.0092     \n",
      "Epoch 29/40\n",
      "1669/1669 [==============================] - 5s - loss: 0.0082     \n",
      "Epoch 30/40\n",
      "1669/1669 [==============================] - 5s - loss: 0.0073     \n",
      "Epoch 31/40\n",
      "1669/1669 [==============================] - 5s - loss: 0.0065     \n",
      "Epoch 32/40\n",
      "1669/1669 [==============================] - 5s - loss: 0.0059     \n",
      "Epoch 33/40\n",
      "1669/1669 [==============================] - 5s - loss: 0.0053     \n",
      "Epoch 34/40\n",
      "1669/1669 [==============================] - 5s - loss: 0.0048     \n",
      "Epoch 35/40\n",
      "1669/1669 [==============================] - 5s - loss: 0.0044     \n",
      "Epoch 36/40\n",
      "1669/1669 [==============================] - 5s - loss: 0.0040     \n",
      "Epoch 37/40\n",
      "1669/1669 [==============================] - 5s - loss: 0.0037     \n",
      "Epoch 38/40\n",
      "1669/1669 [==============================] - 5s - loss: 0.0035     \n",
      "Epoch 39/40\n",
      "1669/1669 [==============================] - 5s - loss: 0.0033     \n",
      "Epoch 40/40\n",
      "1669/1669 [==============================] - 5s - loss: 0.0031     \n"
     ]
    },
    {
     "data": {
      "text/plain": [
       "<keras.callbacks.History at 0x7f364822fbe0>"
      ]
     },
     "execution_count": 14,
     "metadata": {},
     "output_type": "execute_result"
    }
   ],
   "source": [
    "model.fit(note_sequences, next_note_sequences, batch_size=5, epochs=40,verbose=1)"
   ]
  },
  {
   "cell_type": "code",
   "execution_count": 20,
   "metadata": {
    "collapsed": false
   },
   "outputs": [
    {
     "name": "stdout",
     "output_type": "stream",
     "text": [
      "453\n",
      "(20, 271)\n",
      "(1, 20, 271)\n",
      "(620, 271)\n"
     ]
    }
   ],
   "source": [
    "note_sequences\n",
    "\n",
    "i = np.random.randint(len(note_sequences)-maxlen, size=1)[0]\n",
    "print(i)\n",
    "test_x = note_sequences[i]\n",
    "print(test_x.shape)\n",
    "\n",
    "test_x=test_x.reshape(1,maxlen,vec_len)\n",
    "\n",
    "\n",
    "result=test_x.astype(int)\n",
    "\n",
    "print(result.shape)\n",
    "\n",
    "for x in range(30):\n",
    "    pred = model.predict(test_x, verbose=0)\n",
    "    pred[pred > 0.05] = 1\n",
    "    pred[pred <= 0.05] = 0\n",
    "    test_x = pred.astype(int)\n",
    "    result=np.vstack((result,test_x))\n",
    "\n",
    "result=result.reshape(-1,vec_len)\n",
    "print(result.shape)\n",
    "\n",
    "with open(\"alb2_predict.csv\", \"w\") as csv_file:\n",
    "    result = csv_data_manager.form_csv(result)\n",
    "    csv_file.write(result)\n",
    "    \n",
    "\n"
   ]
  },
  {
   "cell_type": "code",
   "execution_count": null,
   "metadata": {
    "collapsed": true
   },
   "outputs": [],
   "source": []
  }
 ],
 "metadata": {
  "anaconda-cloud": {},
  "kernelspec": {
   "display_name": "Python [default]",
   "language": "python",
   "name": "python3"
  },
  "language_info": {
   "codemirror_mode": {
    "name": "ipython",
    "version": 3
   },
   "file_extension": ".py",
   "mimetype": "text/x-python",
   "name": "python",
   "nbconvert_exporter": "python",
   "pygments_lexer": "ipython3",
   "version": "3.5.2"
  }
 },
 "nbformat": 4,
 "nbformat_minor": 1
}
