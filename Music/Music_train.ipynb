{
 "cells": [
  {
   "cell_type": "code",
   "execution_count": 55,
   "metadata": {
    "collapsed": false
   },
   "outputs": [],
   "source": [
    "from keras.models import Sequential\n",
    "from keras.layers import Dense, Activation\n",
    "from keras.layers.wrappers import TimeDistributed\n",
    "from keras.layers import LSTM\n",
    "import numpy as np\n",
    "import random\n",
    "import sys\n",
    "import collections\n",
    "from music_csv_reader import CSV_Manager\n"
   ]
  },
  {
   "cell_type": "code",
   "execution_count": 56,
   "metadata": {
    "collapsed": false,
    "scrolled": false
   },
   "outputs": [],
   "source": [
    "csv_data_manager = CSV_Manager(filename = 'alb1.csv')\n",
    "csv_data_manager.process_file()\n",
    "notes = csv_data_manager.music_sequence"
   ]
  },
  {
   "cell_type": "code",
   "execution_count": 57,
   "metadata": {
    "collapsed": false
   },
   "outputs": [
    {
     "name": "stdout",
     "output_type": "stream",
     "text": [
      "271\n",
      "nb sequences: 20\n",
      "nb sequences: 271\n",
      "(2932, 20, 271)\n",
      "(2932, 271)\n"
     ]
    }
   ],
   "source": [
    "maxlen = 20\n",
    "vec_len = csv_data_manager.vec_length\n",
    "print(vec_len)\n",
    "\n",
    "\n",
    "note_sequences = []\n",
    "next_notes = []\n",
    "for i in range(0, len(notes) - maxlen, 1):\n",
    "    note_sequences.append(notes[i: i + maxlen])\n",
    "    next_notes.append(notes[i])\n",
    "    \n",
    "print('nb sequences:', len(note_sequences[0]))\n",
    "print('nb sequences:', len(next_notes[0]))\n",
    "\n",
    "\n",
    "note_sequences = np.array(note_sequences)\n",
    "next_notes = np.array(next_notes)\n",
    "\n",
    "print(note_sequences.shape)\n",
    "print(next_notes.shape)\n"
   ]
  },
  {
   "cell_type": "code",
   "execution_count": 58,
   "metadata": {
    "collapsed": false
   },
   "outputs": [
    {
     "name": "stdout",
     "output_type": "stream",
     "text": [
      "Build model...\n",
      "_________________________________________________________________\n",
      "Layer (type)                 Output Shape              Param #   \n",
      "=================================================================\n",
      "lstm_12 (LSTM)               (None, 128)               204800    \n",
      "_________________________________________________________________\n",
      "dense_11 (Dense)             (None, 271)               34959     \n",
      "=================================================================\n",
      "Total params: 239,759.0\n",
      "Trainable params: 239,759\n",
      "Non-trainable params: 0.0\n",
      "_________________________________________________________________\n",
      "None\n"
     ]
    }
   ],
   "source": [
    "print('Build model...')\n",
    "model = Sequential()\n",
    "# model.add(LSTM(128, input_shape=(maxlen, vec_len),return_sequences=True))\n",
    "# model.add(TimeDistributed(Dense(vec_len,activation='sigmoid')))\n",
    "model.add(LSTM(128, input_shape=(maxlen, vec_len)))\n",
    "model.add(Dense(vec_len,activation='sigmoid'))\n",
    "model.compile(loss='binary_crossentropy', optimizer='adam')\n",
    "\n",
    "print(model.summary())"
   ]
  },
  {
   "cell_type": "code",
   "execution_count": null,
   "metadata": {
    "collapsed": false
   },
   "outputs": [
    {
     "name": "stdout",
     "output_type": "stream",
     "text": [
      "Epoch 1/40\n",
      "1775/2932 [=================>............] - ETA: 9s - loss: 0.0690"
     ]
    }
   ],
   "source": [
    "model.fit(note_sequences, next_notes, batch_size=5, epochs=40,verbose=1)"
   ]
  },
  {
   "cell_type": "code",
   "execution_count": 20,
   "metadata": {
    "collapsed": false
   },
   "outputs": [
    {
     "name": "stdout",
     "output_type": "stream",
     "text": [
      "453\n",
      "(20, 271)\n",
      "(1, 20, 271)\n",
      "(620, 271)\n"
     ]
    }
   ],
   "source": [
    "note_sequences\n",
    "\n",
    "i = np.random.randint(len(note_sequences)-maxlen, size=1)[0]\n",
    "print(i)\n",
    "test_x = note_sequences[i]\n",
    "print(test_x.shape)\n",
    "\n",
    "test_x=test_x.reshape(1,maxlen,vec_len)\n",
    "\n",
    "\n",
    "result=test_x.astype(int)\n",
    "\n",
    "print(result.shape)\n",
    "\n",
    "for x in range(30):\n",
    "    pred = model.predict(test_x, verbose=0)\n",
    "    pred[pred > 0.05] = 1\n",
    "    pred[pred <= 0.05] = 0\n",
    "    test_x = pred.astype(int)\n",
    "    result=np.vstack((result,test_x))\n",
    "\n",
    "result=result.reshape(-1,vec_len)\n",
    "print(result.shape)\n",
    "\n",
    "with open(\"alb2_predict.csv\", \"w\") as csv_file:\n",
    "    result = csv_data_manager.form_csv(result)\n",
    "    csv_file.write(result)\n",
    "    \n",
    "\n"
   ]
  },
  {
   "cell_type": "code",
   "execution_count": null,
   "metadata": {
    "collapsed": true
   },
   "outputs": [],
   "source": []
  }
 ],
 "metadata": {
  "anaconda-cloud": {},
  "kernelspec": {
   "display_name": "Python 3",
   "language": "python",
   "name": "python3"
  },
  "language_info": {
   "codemirror_mode": {
    "name": "ipython",
    "version": 3
   },
   "file_extension": ".py",
   "mimetype": "text/x-python",
   "name": "python",
   "nbconvert_exporter": "python",
   "pygments_lexer": "ipython3",
   "version": "3.5.2"
  }
 },
 "nbformat": 4,
 "nbformat_minor": 1
}
