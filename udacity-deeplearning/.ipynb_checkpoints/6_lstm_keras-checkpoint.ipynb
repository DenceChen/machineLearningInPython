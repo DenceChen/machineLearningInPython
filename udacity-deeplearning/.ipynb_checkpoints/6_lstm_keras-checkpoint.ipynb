{
 "cells": [
  {
   "cell_type": "markdown",
   "metadata": {
    "colab_type": "text",
    "id": "8tQJd2YSCfWR"
   },
   "source": []
  },
  {
   "cell_type": "markdown",
   "metadata": {
    "colab_type": "text",
    "id": "D7tqLMoKF6uq"
   },
   "source": [
    "Deep Learning\n",
    "=============\n",
    "\n",
    "Assignment 6\n",
    "------------\n",
    "\n",
    "After training a skip-gram model in `5_word2vec.ipynb`, the goal of this notebook is to train a LSTM character model over [Text8](http://mattmahoney.net/dc/textdata) data."
   ]
  },
  {
   "cell_type": "code",
   "execution_count": 2,
   "metadata": {
    "cellView": "both",
    "colab": {
     "autoexec": {
      "startup": false,
      "wait_interval": 0
     }
    },
    "colab_type": "code",
    "collapsed": true,
    "id": "MvEblsgEXxrd"
   },
   "outputs": [],
   "source": [
    "# These are all the modules we'll be using later. Make sure you can import them\n",
    "# before proceeding further.\n",
    "from __future__ import print_function\n",
    "import os\n",
    "import numpy as np\n",
    "import random\n",
    "import string\n",
    "import tensorflow as tf\n",
    "import zipfile\n",
    "from six.moves import range\n",
    "from six.moves.urllib.request import urlretrieve"
   ]
  },
  {
   "cell_type": "code",
   "execution_count": 3,
   "metadata": {
    "cellView": "both",
    "colab": {
     "autoexec": {
      "startup": false,
      "wait_interval": 0
     },
     "output_extras": [
      {
       "item_id": 1
      }
     ]
    },
    "colab_type": "code",
    "collapsed": false,
    "executionInfo": {
     "elapsed": 5993,
     "status": "ok",
     "timestamp": 1445965582896,
     "user": {
      "color": "#1FA15D",
      "displayName": "Vincent Vanhoucke",
      "isAnonymous": false,
      "isMe": true,
      "permissionId": "05076109866853157986",
      "photoUrl": "//lh6.googleusercontent.com/-cCJa7dTDcgQ/AAAAAAAAAAI/AAAAAAAACgw/r2EZ_8oYer4/s50-c-k-no/photo.jpg",
      "sessionId": "6f6f07b359200c46",
      "userId": "102167687554210253930"
     },
     "user_tz": 420
    },
    "id": "RJ-o3UBUFtCw",
    "outputId": "d530534e-0791-4a94-ca6d-1c8f1b908a9e"
   },
   "outputs": [
    {
     "name": "stdout",
     "output_type": "stream",
     "text": [
      "Found and verified text8.zip\n"
     ]
    }
   ],
   "source": [
    "url = 'http://mattmahoney.net/dc/'\n",
    "\n",
    "def maybe_download(filename, expected_bytes):\n",
    "  \"\"\"Download a file if not present, and make sure it's the right size.\"\"\"\n",
    "  if not os.path.exists(filename):\n",
    "    filename, _ = urlretrieve(url + filename, filename)\n",
    "  statinfo = os.stat(filename)\n",
    "  if statinfo.st_size == expected_bytes:\n",
    "    print('Found and verified %s' % filename)\n",
    "  else:\n",
    "    print(statinfo.st_size)\n",
    "    raise Exception(\n",
    "      'Failed to verify ' + filename + '. Can you get to it with a browser?')\n",
    "  return filename\n",
    "\n",
    "filename = maybe_download('text8.zip', 31344016)"
   ]
  },
  {
   "cell_type": "code",
   "execution_count": 4,
   "metadata": {
    "cellView": "both",
    "colab": {
     "autoexec": {
      "startup": false,
      "wait_interval": 0
     },
     "output_extras": [
      {
       "item_id": 1
      }
     ]
    },
    "colab_type": "code",
    "collapsed": false,
    "executionInfo": {
     "elapsed": 5982,
     "status": "ok",
     "timestamp": 1445965582916,
     "user": {
      "color": "#1FA15D",
      "displayName": "Vincent Vanhoucke",
      "isAnonymous": false,
      "isMe": true,
      "permissionId": "05076109866853157986",
      "photoUrl": "//lh6.googleusercontent.com/-cCJa7dTDcgQ/AAAAAAAAAAI/AAAAAAAACgw/r2EZ_8oYer4/s50-c-k-no/photo.jpg",
      "sessionId": "6f6f07b359200c46",
      "userId": "102167687554210253930"
     },
     "user_tz": 420
    },
    "id": "Mvf09fjugFU_",
    "outputId": "8f75db58-3862-404b-a0c3-799380597390"
   },
   "outputs": [
    {
     "name": "stdout",
     "output_type": "stream",
     "text": [
      " anarchism originated as a term of abuse\n",
      "Data size 100000000\n"
     ]
    }
   ],
   "source": [
    "def read_data(filename):\n",
    "  f = zipfile.ZipFile(filename)\n",
    "  for name in f.namelist():\n",
    "    return tf.compat.as_str(f.read(name))\n",
    "  f.close()\n",
    "  \n",
    "text = read_data(filename)\n",
    "print(text[:40])\n",
    "print('Data size %d' % len(text))"
   ]
  },
  {
   "cell_type": "markdown",
   "metadata": {
    "colab_type": "text",
    "id": "ga2CYACE-ghb"
   },
   "source": [
    "Create a small validation set."
   ]
  },
  {
   "cell_type": "code",
   "execution_count": 5,
   "metadata": {
    "cellView": "both",
    "colab": {
     "autoexec": {
      "startup": false,
      "wait_interval": 0
     },
     "output_extras": [
      {
       "item_id": 1
      }
     ]
    },
    "colab_type": "code",
    "collapsed": false,
    "executionInfo": {
     "elapsed": 6184,
     "status": "ok",
     "timestamp": 1445965583138,
     "user": {
      "color": "#1FA15D",
      "displayName": "Vincent Vanhoucke",
      "isAnonymous": false,
      "isMe": true,
      "permissionId": "05076109866853157986",
      "photoUrl": "//lh6.googleusercontent.com/-cCJa7dTDcgQ/AAAAAAAAAAI/AAAAAAAACgw/r2EZ_8oYer4/s50-c-k-no/photo.jpg",
      "sessionId": "6f6f07b359200c46",
      "userId": "102167687554210253930"
     },
     "user_tz": 420
    },
    "id": "w-oBpfFG-j43",
    "outputId": "bdb96002-d021-4379-f6de-a977924f0d02"
   },
   "outputs": [
    {
     "name": "stdout",
     "output_type": "stream",
     "text": [
      "99999000 ons anarchists advocate social relations based upon voluntary as\n",
      "1000  anarchism originated as a term of abuse first used against earl\n"
     ]
    }
   ],
   "source": [
    "valid_size = 1000\n",
    "valid_text = text[:valid_size]\n",
    "train_text = text[valid_size:]\n",
    "train_size = len(train_text)\n",
    "print(train_size, train_text[:64])\n",
    "print(valid_size, valid_text[:64])"
   ]
  },
  {
   "cell_type": "markdown",
   "metadata": {
    "colab_type": "text",
    "id": "Zdw6i4F8glpp"
   },
   "source": [
    "Utility functions to map characters to vocabulary IDs and back."
   ]
  },
  {
   "cell_type": "code",
   "execution_count": 6,
   "metadata": {
    "cellView": "both",
    "colab": {
     "autoexec": {
      "startup": false,
      "wait_interval": 0
     },
     "output_extras": [
      {
       "item_id": 1
      }
     ]
    },
    "colab_type": "code",
    "collapsed": false,
    "executionInfo": {
     "elapsed": 6276,
     "status": "ok",
     "timestamp": 1445965583249,
     "user": {
      "color": "#1FA15D",
      "displayName": "Vincent Vanhoucke",
      "isAnonymous": false,
      "isMe": true,
      "permissionId": "05076109866853157986",
      "photoUrl": "//lh6.googleusercontent.com/-cCJa7dTDcgQ/AAAAAAAAAAI/AAAAAAAACgw/r2EZ_8oYer4/s50-c-k-no/photo.jpg",
      "sessionId": "6f6f07b359200c46",
      "userId": "102167687554210253930"
     },
     "user_tz": 420
    },
    "id": "gAL1EECXeZsD",
    "outputId": "88fc9032-feb9-45ff-a9a0-a26759cc1f2e"
   },
   "outputs": [
    {
     "name": "stdout",
     "output_type": "stream",
     "text": [
      "27\n",
      "Unexpected character: ï\n",
      "1 26 0 0\n",
      "a z  \n"
     ]
    }
   ],
   "source": [
    "vocabulary_size = len(string.ascii_lowercase) + 1 # [a-z] + ' '\n",
    "first_letter = ord(string.ascii_lowercase[0])\n",
    "print(vocabulary_size)\n",
    "\n",
    "def char2id(char):\n",
    "  if char in string.ascii_lowercase:\n",
    "    return ord(char) - first_letter + 1\n",
    "  elif char == ' ':\n",
    "    return 0\n",
    "  else:\n",
    "    print('Unexpected character: %s' % char)\n",
    "    return 0\n",
    "  \n",
    "def id2char(dictid):\n",
    "  if dictid > 0:\n",
    "    return chr(dictid + first_letter - 1)\n",
    "  else:\n",
    "    return ' '\n",
    "\n",
    "print(char2id('a'), char2id('z'), char2id(' '), char2id('ï'))\n",
    "print(id2char(1), id2char(26), id2char(0))"
   ]
  },
  {
   "cell_type": "code",
   "execution_count": 9,
   "metadata": {
    "collapsed": false
   },
   "outputs": [
    {
     "name": "stdout",
     "output_type": "stream",
     "text": [
      "900 [13, 21, 20, 21]\n",
      "900 [1, 9, 13, 5]\n",
      "900 [14, 1, 18, 3]\n"
     ]
    }
   ],
   "source": [
    "import numpy\n",
    "from keras.utils import np_utils\n",
    "class newBatchGenerator(object):\n",
    "\n",
    "    globalIndex = 1\n",
    "    first_letter = ord(string.ascii_lowercase[0])\n",
    "    \n",
    "    def getSeq_length(self):\n",
    "        return 100\n",
    "    def getBatchCount(self):\n",
    "        return 1000\n",
    "    \n",
    "    def nextBatch1(self):\n",
    "        dataX = []\n",
    "        dataY = []\n",
    "        seq_length = self.getSeq_length()\n",
    "        batchCount = self.getBatchCount()\n",
    "        if self.globalIndex*batchCount > train_size:\n",
    "            self.globalIndex = 1\n",
    "        batchWords = train_text[(self.globalIndex-1)*batchCount:self.globalIndex*batchCount]\n",
    "        for i in range(0,len(batchWords)-seq_length,1):\n",
    "            seq_in = batchWords[i:i+seq_length]\n",
    "            seq_out = batchWords[i+seq_length]\n",
    "            dataX.append([self.char2id(c) for c in seq_in])\n",
    "            dataY.append(self.char2id(seq_out))\n",
    "        n_patterns = len(dataX)\n",
    "        X = numpy.reshape(dataX, (n_patterns, seq_length, 1))\n",
    "        # normalize\n",
    "        X = X / float(vocabulary_size)\n",
    "        # one hot encode the output variable\n",
    "        y = np_utils.to_categorical(dataY,nb_classes=27)\n",
    "        self.globalIndex=self.globalIndex+1\n",
    "        return n_patterns,X,y,dataY\n",
    "    \n",
    "    def char2id(self,char):\n",
    "      if char in string.ascii_lowercase:\n",
    "        return ord(char) - self.first_letter + 1\n",
    "      elif char == ' ':\n",
    "        return 0\n",
    "      else:\n",
    "        print('Unexpected character: %s' % char)\n",
    "        return 0\n",
    "  \n",
    "    def id2char(self,dictid):\n",
    "      if dictid > 0:\n",
    "        return chr(dictid + self.first_letter - 1)\n",
    "      else:\n",
    "        return \n",
    "        \n",
    "    \n",
    "batchGenerator = newBatchGenerator()\n",
    "np,XX,yy,dataY = batchGenerator.nextBatch1()\n",
    "print(np,dataY[:4])\n",
    "np,XX,yy,dataY = batchGenerator.nextBatch1()\n",
    "print(np,dataY[:4])\n",
    "np,XX,yy,dataY = batchGenerator.nextBatch1()\n",
    "print(np,dataY[:4])\n",
    "\n",
    "sqlength = batchGenerator.getSeq_length()\n"
   ]
  },
  {
   "cell_type": "code",
   "execution_count": 110,
   "metadata": {
    "collapsed": false
   },
   "outputs": [
    {
     "data": {
      "image/svg+xml": [
       "<svg height=\"470pt\" viewBox=\"0.00 0.00 323.00 470.00\" width=\"323pt\" xmlns=\"http://www.w3.org/2000/svg\" xmlns:xlink=\"http://www.w3.org/1999/xlink\">\n",
       "<g class=\"graph\" id=\"graph0\" transform=\"scale(1 1) rotate(0) translate(4 466)\">\n",
       "<title>G</title>\n",
       "<polygon fill=\"white\" points=\"-4,4 -4,-466 319,-466 319,4 -4,4\" stroke=\"none\"/>\n",
       "<!-- 140684921020600 -->\n",
       "<g class=\"node\" id=\"node1\"><title>140684921020600</title>\n",
       "<polygon fill=\"none\" points=\"0,-415.5 0,-461.5 315,-461.5 315,-415.5 0,-415.5\" stroke=\"black\"/>\n",
       "<text font-family=\"Times,serif\" font-size=\"14.00\" text-anchor=\"middle\" x=\"81.5\" y=\"-434.8\">lstm_input_15: InputLayer</text>\n",
       "<polyline fill=\"none\" points=\"163,-415.5 163,-461.5 \" stroke=\"black\"/>\n",
       "<text font-family=\"Times,serif\" font-size=\"14.00\" text-anchor=\"middle\" x=\"190.5\" y=\"-446.3\">input:</text>\n",
       "<polyline fill=\"none\" points=\"163,-438.5 218,-438.5 \" stroke=\"black\"/>\n",
       "<text font-family=\"Times,serif\" font-size=\"14.00\" text-anchor=\"middle\" x=\"190.5\" y=\"-423.3\">output:</text>\n",
       "<polyline fill=\"none\" points=\"218,-415.5 218,-461.5 \" stroke=\"black\"/>\n",
       "<text font-family=\"Times,serif\" font-size=\"14.00\" text-anchor=\"middle\" x=\"266.5\" y=\"-446.3\">(None, 100, 1)</text>\n",
       "<polyline fill=\"none\" points=\"218,-438.5 315,-438.5 \" stroke=\"black\"/>\n",
       "<text font-family=\"Times,serif\" font-size=\"14.00\" text-anchor=\"middle\" x=\"266.5\" y=\"-423.3\">(None, 100, 1)</text>\n",
       "</g>\n",
       "<!-- 140684921008080 -->\n",
       "<g class=\"node\" id=\"node2\"><title>140684921008080</title>\n",
       "<polygon fill=\"none\" points=\"22.5,-332.5 22.5,-378.5 292.5,-378.5 292.5,-332.5 22.5,-332.5\" stroke=\"black\"/>\n",
       "<text font-family=\"Times,serif\" font-size=\"14.00\" text-anchor=\"middle\" x=\"75\" y=\"-351.8\">lstm_17: LSTM</text>\n",
       "<polyline fill=\"none\" points=\"127.5,-332.5 127.5,-378.5 \" stroke=\"black\"/>\n",
       "<text font-family=\"Times,serif\" font-size=\"14.00\" text-anchor=\"middle\" x=\"155\" y=\"-363.3\">input:</text>\n",
       "<polyline fill=\"none\" points=\"127.5,-355.5 182.5,-355.5 \" stroke=\"black\"/>\n",
       "<text font-family=\"Times,serif\" font-size=\"14.00\" text-anchor=\"middle\" x=\"155\" y=\"-340.3\">output:</text>\n",
       "<polyline fill=\"none\" points=\"182.5,-332.5 182.5,-378.5 \" stroke=\"black\"/>\n",
       "<text font-family=\"Times,serif\" font-size=\"14.00\" text-anchor=\"middle\" x=\"237.5\" y=\"-363.3\">(None, 100, 1)</text>\n",
       "<polyline fill=\"none\" points=\"182.5,-355.5 292.5,-355.5 \" stroke=\"black\"/>\n",
       "<text font-family=\"Times,serif\" font-size=\"14.00\" text-anchor=\"middle\" x=\"237.5\" y=\"-340.3\">(None, 100, 300)</text>\n",
       "</g>\n",
       "<!-- 140684921020600&#45;&gt;140684921008080 -->\n",
       "<g class=\"edge\" id=\"edge1\"><title>140684921020600-&gt;140684921008080</title>\n",
       "<path d=\"M157.5,-415.366C157.5,-407.152 157.5,-397.658 157.5,-388.725\" fill=\"none\" stroke=\"black\"/>\n",
       "<polygon fill=\"black\" points=\"161,-388.607 157.5,-378.607 154,-388.607 161,-388.607\" stroke=\"black\"/>\n",
       "</g>\n",
       "<!-- 140684921020488 -->\n",
       "<g class=\"node\" id=\"node3\"><title>140684921020488</title>\n",
       "<polygon fill=\"none\" points=\"9.5,-249.5 9.5,-295.5 305.5,-295.5 305.5,-249.5 9.5,-249.5\" stroke=\"black\"/>\n",
       "<text font-family=\"Times,serif\" font-size=\"14.00\" text-anchor=\"middle\" x=\"75\" y=\"-268.8\">dropout_12: Dropout</text>\n",
       "<polyline fill=\"none\" points=\"140.5,-249.5 140.5,-295.5 \" stroke=\"black\"/>\n",
       "<text font-family=\"Times,serif\" font-size=\"14.00\" text-anchor=\"middle\" x=\"168\" y=\"-280.3\">input:</text>\n",
       "<polyline fill=\"none\" points=\"140.5,-272.5 195.5,-272.5 \" stroke=\"black\"/>\n",
       "<text font-family=\"Times,serif\" font-size=\"14.00\" text-anchor=\"middle\" x=\"168\" y=\"-257.3\">output:</text>\n",
       "<polyline fill=\"none\" points=\"195.5,-249.5 195.5,-295.5 \" stroke=\"black\"/>\n",
       "<text font-family=\"Times,serif\" font-size=\"14.00\" text-anchor=\"middle\" x=\"250.5\" y=\"-280.3\">(None, 100, 300)</text>\n",
       "<polyline fill=\"none\" points=\"195.5,-272.5 305.5,-272.5 \" stroke=\"black\"/>\n",
       "<text font-family=\"Times,serif\" font-size=\"14.00\" text-anchor=\"middle\" x=\"250.5\" y=\"-257.3\">(None, 100, 300)</text>\n",
       "</g>\n",
       "<!-- 140684921008080&#45;&gt;140684921020488 -->\n",
       "<g class=\"edge\" id=\"edge2\"><title>140684921008080-&gt;140684921020488</title>\n",
       "<path d=\"M157.5,-332.366C157.5,-324.152 157.5,-314.658 157.5,-305.725\" fill=\"none\" stroke=\"black\"/>\n",
       "<polygon fill=\"black\" points=\"161,-305.607 157.5,-295.607 154,-305.607 161,-305.607\" stroke=\"black\"/>\n",
       "</g>\n",
       "<!-- 140684920045296 -->\n",
       "<g class=\"node\" id=\"node4\"><title>140684920045296</title>\n",
       "<polygon fill=\"none\" points=\"22.5,-166.5 22.5,-212.5 292.5,-212.5 292.5,-166.5 22.5,-166.5\" stroke=\"black\"/>\n",
       "<text font-family=\"Times,serif\" font-size=\"14.00\" text-anchor=\"middle\" x=\"75\" y=\"-185.8\">lstm_18: LSTM</text>\n",
       "<polyline fill=\"none\" points=\"127.5,-166.5 127.5,-212.5 \" stroke=\"black\"/>\n",
       "<text font-family=\"Times,serif\" font-size=\"14.00\" text-anchor=\"middle\" x=\"155\" y=\"-197.3\">input:</text>\n",
       "<polyline fill=\"none\" points=\"127.5,-189.5 182.5,-189.5 \" stroke=\"black\"/>\n",
       "<text font-family=\"Times,serif\" font-size=\"14.00\" text-anchor=\"middle\" x=\"155\" y=\"-174.3\">output:</text>\n",
       "<polyline fill=\"none\" points=\"182.5,-166.5 182.5,-212.5 \" stroke=\"black\"/>\n",
       "<text font-family=\"Times,serif\" font-size=\"14.00\" text-anchor=\"middle\" x=\"237.5\" y=\"-197.3\">(None, 100, 300)</text>\n",
       "<polyline fill=\"none\" points=\"182.5,-189.5 292.5,-189.5 \" stroke=\"black\"/>\n",
       "<text font-family=\"Times,serif\" font-size=\"14.00\" text-anchor=\"middle\" x=\"237.5\" y=\"-174.3\">(None, 300)</text>\n",
       "</g>\n",
       "<!-- 140684921020488&#45;&gt;140684920045296 -->\n",
       "<g class=\"edge\" id=\"edge3\"><title>140684921020488-&gt;140684920045296</title>\n",
       "<path d=\"M157.5,-249.366C157.5,-241.152 157.5,-231.658 157.5,-222.725\" fill=\"none\" stroke=\"black\"/>\n",
       "<polygon fill=\"black\" points=\"161,-222.607 157.5,-212.607 154,-222.607 161,-222.607\" stroke=\"black\"/>\n",
       "</g>\n",
       "<!-- 140684918618712 -->\n",
       "<g class=\"node\" id=\"node5\"><title>140684918618712</title>\n",
       "<polygon fill=\"none\" points=\"23,-83.5 23,-129.5 292,-129.5 292,-83.5 23,-83.5\" stroke=\"black\"/>\n",
       "<text font-family=\"Times,serif\" font-size=\"14.00\" text-anchor=\"middle\" x=\"88.5\" y=\"-102.8\">dropout_13: Dropout</text>\n",
       "<polyline fill=\"none\" points=\"154,-83.5 154,-129.5 \" stroke=\"black\"/>\n",
       "<text font-family=\"Times,serif\" font-size=\"14.00\" text-anchor=\"middle\" x=\"181.5\" y=\"-114.3\">input:</text>\n",
       "<polyline fill=\"none\" points=\"154,-106.5 209,-106.5 \" stroke=\"black\"/>\n",
       "<text font-family=\"Times,serif\" font-size=\"14.00\" text-anchor=\"middle\" x=\"181.5\" y=\"-91.3\">output:</text>\n",
       "<polyline fill=\"none\" points=\"209,-83.5 209,-129.5 \" stroke=\"black\"/>\n",
       "<text font-family=\"Times,serif\" font-size=\"14.00\" text-anchor=\"middle\" x=\"250.5\" y=\"-114.3\">(None, 300)</text>\n",
       "<polyline fill=\"none\" points=\"209,-106.5 292,-106.5 \" stroke=\"black\"/>\n",
       "<text font-family=\"Times,serif\" font-size=\"14.00\" text-anchor=\"middle\" x=\"250.5\" y=\"-91.3\">(None, 300)</text>\n",
       "</g>\n",
       "<!-- 140684920045296&#45;&gt;140684918618712 -->\n",
       "<g class=\"edge\" id=\"edge4\"><title>140684920045296-&gt;140684918618712</title>\n",
       "<path d=\"M157.5,-166.366C157.5,-158.152 157.5,-148.658 157.5,-139.725\" fill=\"none\" stroke=\"black\"/>\n",
       "<polygon fill=\"black\" points=\"161,-139.607 157.5,-129.607 154,-139.607 161,-139.607\" stroke=\"black\"/>\n",
       "</g>\n",
       "<!-- 140684917682640 -->\n",
       "<g class=\"node\" id=\"node6\"><title>140684917682640</title>\n",
       "<polygon fill=\"none\" points=\"34,-0.5 34,-46.5 281,-46.5 281,-0.5 34,-0.5\" stroke=\"black\"/>\n",
       "<text font-family=\"Times,serif\" font-size=\"14.00\" text-anchor=\"middle\" x=\"88.5\" y=\"-19.8\">dense_16: Dense</text>\n",
       "<polyline fill=\"none\" points=\"143,-0.5 143,-46.5 \" stroke=\"black\"/>\n",
       "<text font-family=\"Times,serif\" font-size=\"14.00\" text-anchor=\"middle\" x=\"170.5\" y=\"-31.3\">input:</text>\n",
       "<polyline fill=\"none\" points=\"143,-23.5 198,-23.5 \" stroke=\"black\"/>\n",
       "<text font-family=\"Times,serif\" font-size=\"14.00\" text-anchor=\"middle\" x=\"170.5\" y=\"-8.3\">output:</text>\n",
       "<polyline fill=\"none\" points=\"198,-0.5 198,-46.5 \" stroke=\"black\"/>\n",
       "<text font-family=\"Times,serif\" font-size=\"14.00\" text-anchor=\"middle\" x=\"239.5\" y=\"-31.3\">(None, 300)</text>\n",
       "<polyline fill=\"none\" points=\"198,-23.5 281,-23.5 \" stroke=\"black\"/>\n",
       "<text font-family=\"Times,serif\" font-size=\"14.00\" text-anchor=\"middle\" x=\"239.5\" y=\"-8.3\">(None, 27)</text>\n",
       "</g>\n",
       "<!-- 140684918618712&#45;&gt;140684917682640 -->\n",
       "<g class=\"edge\" id=\"edge5\"><title>140684918618712-&gt;140684917682640</title>\n",
       "<path d=\"M157.5,-83.3664C157.5,-75.1516 157.5,-65.6579 157.5,-56.7252\" fill=\"none\" stroke=\"black\"/>\n",
       "<polygon fill=\"black\" points=\"161,-56.6068 157.5,-46.6068 154,-56.6069 161,-56.6068\" stroke=\"black\"/>\n",
       "</g>\n",
       "</g>\n",
       "</svg>"
      ],
      "text/plain": [
       "<IPython.core.display.SVG object>"
      ]
     },
     "execution_count": 110,
     "metadata": {},
     "output_type": "execute_result"
    }
   ],
   "source": [
    "from keras.layers.embeddings import Embedding\n",
    "from keras.layers.core import Dense, Dropout, Activation, Flatten\n",
    "from keras.layers import Dense, Embedding, Reshape\n",
    "from keras.models import Sequential\n",
    "from keras.layers.recurrent import LSTM\n",
    "from keras.utils.visualize_util import model_to_dot, plot\n",
    "from IPython.display import SVG\n",
    "\n",
    "hidden_neurons = 300\n",
    "Vsize = 27\n",
    "\n",
    "np,XX,yy,dataY = batchGenerator.nextBatch1()\n",
    "\n",
    "model = Sequential()\n",
    "model.add(LSTM(hidden_neurons,input_shape=(sqlength,1),return_sequences=True))\n",
    "model.add(Dropout(0.2))\n",
    "model.add(LSTM(hidden_neurons))\n",
    "model.add(Dropout(0.2))\n",
    "model.add(Dense(27, activation='softmax'))\n",
    "model.compile(loss='categorical_crossentropy', optimizer='adam')\n",
    "SVG(model_to_dot(model, show_shapes=True).create(prog='dot', format='svg'))"
   ]
  },
  {
   "cell_type": "code",
   "execution_count": 111,
   "metadata": {
    "collapsed": false
   },
   "outputs": [
    {
     "name": "stdout",
     "output_type": "stream",
     "text": [
      "0 3.26952981949\n",
      "500 2.74330925941\n",
      "1000 2.59372067451\n",
      "1500 2.23168969154\n",
      "2000 2.29152369499\n",
      "2500 2.27989459038\n",
      "3000 1.7335562706\n",
      "3500 2.0786781311\n",
      "4000 2.00535392761\n",
      "4500 1.88590157032\n",
      "5000 1.9637157917\n",
      "5500 1.91552507877\n",
      "6000 1.81144332886\n",
      "6500 1.83389365673\n",
      "7000 1.82182240486\n",
      "7500 1.49373590946\n",
      "8000 1.72209918499\n",
      "8500 1.78411793709\n",
      "9000 1.3767209053\n",
      "9500 1.72409772873\n",
      "10000 1.69286715984\n",
      "10500 2.04511618614\n",
      "11000 1.7598285675\n",
      "11500 1.63242602348\n",
      "12000 1.7733181715\n",
      "12500 1.75877332687\n",
      "13000 1.61299920082\n",
      "13500 1.43259060383\n",
      "14000 1.84915852547\n",
      "14500 1.6662569046\n",
      "15000 1.67244148254\n",
      "15500 1.70228147507\n",
      "16000 1.4262149334\n",
      "16500 1.51093029976\n",
      "17000 1.50446021557\n",
      "17500 2.21492195129\n",
      "18000 1.52470111847\n",
      "18500 1.50957512856\n",
      "19000 1.37460899353\n",
      "19500 1.82978200912\n",
      "20000 1.60969901085\n",
      "20500 1.70992839336\n",
      "21000 1.50207567215\n",
      "21500 1.59440755844\n",
      "22000 1.5992783308\n",
      "22500 1.37925231457\n",
      "23000 1.75166165829\n",
      "23500 1.62496352196\n",
      "24000 1.44815838337\n",
      "24500 1.59854412079\n",
      "25000 1.37497770786\n",
      "25500 1.77733516693\n",
      "26000 1.56370687485\n",
      "26500 1.44192397594\n",
      "27000 1.75202548504\n",
      "27500 1.59963691235\n",
      "28000 1.55001342297\n",
      "28500 1.76139771938\n",
      "29000 1.7386752367\n",
      "29500 1.58757710457\n",
      "30000 1.5143301487\n",
      "30500 1.69057202339\n",
      "31000 1.41295874119\n",
      "31500 1.60861730576\n",
      "32000 1.50846123695\n",
      "32500 1.57460606098\n",
      "33000 1.69482660294\n",
      "33500 1.46068155766\n",
      "34000 1.4599224329\n",
      "34500 1.85344922543\n",
      "35000 1.08584988117\n",
      "35500 1.50827276707\n",
      "36000 1.42952251434\n",
      "36500 1.48480331898\n",
      "37000 1.54918217659\n",
      "37500 1.45904922485\n",
      "38000 1.46298313141\n",
      "38500 1.31740558147\n",
      "39000 1.59941482544\n",
      "39500 1.3677573204\n"
     ]
    }
   ],
   "source": [
    "for ite in range(40000):\n",
    "    loss = 0.\n",
    "    np,XX,yy,dataY = batchGenerator.nextBatch1() \n",
    "    loss += model.train_on_batch(XX, yy)\n",
    "    if(ite%500==0):\n",
    "        print(ite, loss)"
   ]
  },
  {
   "cell_type": "code",
   "execution_count": 118,
   "metadata": {
    "collapsed": true
   },
   "outputs": [],
   "source": [
    "model.save('keras_textLearn.h5')"
   ]
  },
  {
   "cell_type": "markdown",
   "metadata": {
    "colab_type": "text",
    "id": "lFwoyygOmWsL"
   },
   "source": [
    "Function to generate a training batch for the LSTM model."
   ]
  },
  {
   "cell_type": "code",
   "execution_count": 11,
   "metadata": {
    "collapsed": false
   },
   "outputs": [
    {
     "name": "stdout",
     "output_type": "stream",
     "text": [
      "[16, 8, 25, 0, 9, 19, 0, 20, 8, 5, 0, 2, 5, 12, 9, 5, 6, 0, 20, 8, 1, 20, 0, 18, 21, 12, 5, 18, 19, 0, 1, 18, 5, 0, 21, 14, 14, 5, 3, 5, 19, 19, 1, 18, 25, 0, 1, 14, 4, 0, 19, 8, 15, 21, 12, 4, 0, 2, 5, 0, 1, 2, 15, 12, 9, 19, 8, 5, 4, 0, 1, 12, 20, 8, 15, 21, 7, 8, 0, 20, 8, 5, 18, 5, 0, 1, 18, 5, 0, 4, 9, 6, 6, 5, 18, 9, 14, 7, 0, 9]\n",
      "\" phy is the belief that rulers are unnecessary and should be abolished although there are differing i \"\n",
      "Seed: 100\n",
      "n the first one nine four five one nine four five one nine five five one nine four five one nine four five one nine four five one nine four five one nine four five one nine four five one nine four five one nine four five one nine four five one nine four five one nine four five one nine four five one nine four five one nine four five one nine four five one nine four five one nine four five one nine four five one nine four five one nine four five one nine four five one nine four five one nine four five one nine four five one nine four five one nine four five one nine four five one nine four five one nine four five one nine four five one nine four five one nine four five one nine four five one nine four five one nine four five one nine four five one nine four five one nine four five one nine four five one nine four five one nine four five one nine four five one nine four five one nine four five one nine four five one nine four five one nine four five one nine four five one nine four five \n",
      "Done.\n"
     ]
    }
   ],
   "source": [
    "from keras.models import load_model\n",
    "model = load_model('keras_textLearn.h5')\n",
    "# pick a random seed\n",
    "import sys\n",
    "np,XX,yy,dataY = batchGenerator.nextBatch1() \n",
    "start = numpy.random.randint(1, 500)\n",
    "\n",
    "a = valid_size//sqlength\n",
    "start = numpy.random.randint(1, a-1)\n",
    "\n",
    "\n",
    "pattern = valid_text[(start-1)*sqlength:start*sqlength]\n",
    "\n",
    "print([char2id(value) for value in pattern])\n",
    "print (\"\\\"\",''.join([value for value in pattern]), \"\\\"\")\n",
    "seedPattern = [char2id(value) for value in pattern]\n",
    "print (\"Seed:\",len(seedPattern))\n",
    "#rint (\"\\\"\",''.join([chr(id2char(value)) for value in pattern]), \"\\\"\")\n",
    "#rint (\"\\\"\",''.join([id2char(value) for value in pattern]), \"\\\"\")\n",
    "# generate characters\n",
    "for i in range(1000):\n",
    "    x = numpy.reshape(seedPattern, (1, len(seedPattern), 1))\n",
    "    x = x / float(27)\n",
    "    prediction = model.predict(x, verbose=0)\n",
    "    index = numpy.argmax(prediction)\n",
    "    result = id2char(index)\n",
    "    seq_in = [seedPattern]\n",
    "    sys.stdout.write(result)\n",
    "    seedPattern.append(index)\n",
    "    seedPattern = seedPattern[1:len(seedPattern)]\n",
    "print(\"\\nDone.\")"
   ]
  },
  {
   "cell_type": "code",
   "execution_count": null,
   "metadata": {
    "collapsed": true
   },
   "outputs": [],
   "source": []
  }
 ],
 "metadata": {
  "anaconda-cloud": {},
  "colab": {
   "default_view": {},
   "name": "6_lstm.ipynb",
   "provenance": [],
   "version": "0.3.2",
   "views": {}
  },
  "kernelspec": {
   "display_name": "Python 3",
   "language": "python",
   "name": "python3"
  },
  "language_info": {
   "codemirror_mode": {
    "name": "ipython",
    "version": 3
   },
   "file_extension": ".py",
   "mimetype": "text/x-python",
   "name": "python",
   "nbconvert_exporter": "python",
   "pygments_lexer": "ipython3",
   "version": "3.5.2"
  }
 },
 "nbformat": 4,
 "nbformat_minor": 0
}
